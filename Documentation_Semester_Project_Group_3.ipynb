{
  "nbformat": 4,
  "nbformat_minor": 0,
  "metadata": {
    "colab": {
      "name": "Documentation Semester Project Group 3.ipynb",
      "provenance": [],
      "collapsed_sections": []
    },
    "kernelspec": {
      "name": "python3",
      "display_name": "Python 3"
    },
    "language_info": {
      "name": "python"
    }
  },
  "cells": [
    {
      "cell_type": "code",
      "execution_count": null,
      "metadata": {
        "id": "ZuyL6wyVHVY-"
      },
      "outputs": [],
      "source": [
        "\n",
        "\n"
      ]
    },
    {
      "cell_type": "markdown",
      "source": [
        "Want to use secure shell (ssh) which provides an encrypted connection to the remote machine\n",
        "\n",
        "PuTTY needed to use ssh from a windows computer:\n",
        "\n",
        "https://www.putty.org/ "
      ],
      "metadata": {
        "id": "_kd0jhxMJBK7"
      }
    }
  ]
}