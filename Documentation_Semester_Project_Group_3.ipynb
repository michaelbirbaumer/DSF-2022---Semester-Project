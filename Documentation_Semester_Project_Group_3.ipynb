{
  "nbformat": 4,
  "nbformat_minor": 0,
  "metadata": {
    "colab": {
      "name": "Documentation Semester Project Group 3.ipynb",
      "provenance": [],
      "collapsed_sections": [],
      "authorship_tag": "ABX9TyOivPabYepHc8oO12YYkP3a",
      "include_colab_link": true
    },
    "kernelspec": {
      "name": "python3",
      "display_name": "Python 3"
    },
    "language_info": {
      "name": "python"
    }
  },
  "cells": [
    {
      "cell_type": "markdown",
      "metadata": {
        "id": "view-in-github",
        "colab_type": "text"
      },
      "source": [
        "<a href=\"https://colab.research.google.com/github/michaelbirbaumer/DSF-2022---Semester-Project/blob/main/Documentation_Semester_Project_Group_3.ipynb\" target=\"_parent\"><img src=\"https://colab.research.google.com/assets/colab-badge.svg\" alt=\"Open In Colab\"/></a>"
      ]
    },
    {
      "cell_type": "markdown",
      "source": [
        "##PuTTY\n",
        "Want to use secure shell (ssh) which provides an encrypted connection to the remote machine\n",
        "\n",
        "Download PuTTY (needed to use ssh from a windows computer):\n",
        "\n",
        "https://www.putty.org/ \n",
        "--> https://www.chiark.greenend.org.uk/~sgtatham/putty/latest.html \n",
        "--> https://the.earth.li/~sgtatham/putty/latest/w64/putty-64bit-0.76-installer.msi \n",
        "\n",
        "##Terminal cheatsheet\n",
        "Contains the most useful commands to navigate, edit/process files and run commands in a shell.\n",
        "\n",
        "https://cheatography.com/davechild/cheat-sheets/linux-command-line/\n",
        "\n",
        "##FileZilla\n",
        "Software for remotely copying files.\n",
        "\n",
        "For safely moving files between your local and your remote machine, ssh typically (in addition to the shell capability) provides scp (secure copy) and/or sftp (secure file transfer protocol).\n",
        "\n",
        "((Used for transferring files over a network. Helps you transfer local files to web servers and vice versa.))\n",
        "\n",
        "https://filezilla-project.org/\n",
        "\n",
        "Download FileZilla FTP Client:\n",
        "\n",
        "https://filezilla-project.org/download.php?type=client --> https://download.filezilla-project.org/client/FileZilla_3.58.0_win64_sponsored2-setup.exe \n",
        "\n",
        "##Remote desktop\n",
        "Remote desktop protocol (RDP, already included by Windows, nothing to install).\n",
        "Used for the preparation of the MD system (first part of the project). Provides a full GUI (Graphical User Interface) streamed from the remote machine\n",
        "\n",
        "##Molecular Dynamics (MD) and GROMACS \n",
        "MD is an important method for investigating proteins.\n",
        "GROMACS is used for this project.\n",
        "\n",
        "\n",
        "We don't have to install GROMACS (Chemzilla)!!!\n",
        "((Download GROMACS:\n",
        "https://manual.gromacs.org/documentation/current/index.html --> https://manual.gromacs.org/documentation/current/download.html \n",
        "\n",
        "\"Please reference this documentation as https://doi.org/10.5281/zenodo.6103568.\n",
        "\n",
        "To cite the source code for this release, please cite https://doi.org/10.5281/zenodo.6103835.\" \n",
        "(??)\n",
        "\n",
        "--> ???????????????????????????????????????????))\n",
        "\n",
        "###GROMACS user guide\n",
        "The manual is both a user manual and a theoretical resource on how MD works.\n",
        "\n",
        "https://manual.gromacs.org/documentation/current/reference-manual/index.html --> https://manual.gromacs.org/documentation/current/user-guide/index.html#user-guide\n",
        "\n",
        "###GROMACS tutorial\n",
        "Several excellent GROMACS tutorials: \n",
        "http://www.mdtutorials.com/gmx/ (by Justin A. Lemkul, Ph.D., Virginia Tech Department of Biochemistry)\n",
        "\n",
        "We follow \"Tutorial 1: Lysozyme in Water\":\n",
        "http://www.mdtutorials.com/gmx/lysozyme/index.html --> http://www.mdtutorials.com/gmx/lysozyme/01_pdb2gmx.html\n",
        "(A different protein will be used, which was assigned to group 3)\n",
        "\n",
        "\n",
        "##Protein Database\n",
        "Received a PDB file already preprocessed by Dr. Sacha Javor ('1tcw.pdb-cleaned.pdb', sent per email).\n",
        "Can use it directly as input for pdb2gmx step of the tutorial.\n",
        "\n",
        "The file of the format PDB (program database) is a formatted text file listing the atoms with their coordinates along with some experimental metadata.\n",
        "\n",
        "(https://www.rcsb.org/ offers all published protein structures in the format PDB)\n",
        "\n",
        "##Chemzilla (Reymond Laboratory teaching server)\n",
        "Most of the tutorial will be done on this server.\n",
        "Advantages: It trains us to work remotely & no need to install GROMACS.\n",
        "\n",
        "The production run(s) will be done on the University cluster (UBELIX).\n",
        "\n",
        "Runs performed on the cluster generate xtc trajectories which are moved back to Chemzilla (without the trr trajectories) where they are finished being analyzed.\n",
        "\n",
        "\"\"Chemzilla has been set up with RDP capability, meaning that you have access to a full GUI to help you work interactively.\"\"\n",
        "\n",
        "##UBELIX\n",
        "\n",
        "Siehe OneNote!!\n",
        "\n"
      ],
      "metadata": {
        "id": "_kd0jhxMJBK7"
      }
    }
  ]
}