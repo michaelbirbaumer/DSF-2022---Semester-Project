{
  "nbformat": 4,
  "nbformat_minor": 0,
  "metadata": {
    "colab": {
      "name": "Documentation Semester Project Group 3.ipynb",
      "provenance": [],
      "collapsed_sections": [],
      "authorship_tag": "ABX9TyMEKx+WpSgXjnxNTKlfkj57",
      "include_colab_link": true
    },
    "kernelspec": {
      "name": "python3",
      "display_name": "Python 3"
    },
    "language_info": {
      "name": "python"
    }
  },
  "cells": [
    {
      "cell_type": "markdown",
      "metadata": {
        "id": "view-in-github",
        "colab_type": "text"
      },
      "source": [
        "<a href=\"https://colab.research.google.com/github/michaelbirbaumer/DSF-2022---Semester-Project/blob/main/Documentation_Semester_Project_Group_3.ipynb\" target=\"_parent\"><img src=\"https://colab.research.google.com/assets/colab-badge.svg\" alt=\"Open In Colab\"/></a>"
      ]
    },
    {
      "cell_type": "markdown",
      "source": [
        "##PuTTY\n",
        "Want to use secure shell (ssh) which provides an encrypted connection to the remote machine\n",
        "\n",
        "Download PuTTY (needed to use ssh from a windows computer):\n",
        "\n",
        "https://www.putty.org/ \n",
        "--> https://www.chiark.greenend.org.uk/~sgtatham/putty/latest.html \n",
        "--> https://the.earth.li/~sgtatham/putty/latest/w64/putty-64bit-0.76-installer.msi \n",
        "\n",
        "##Terminal cheatsheet\n",
        "\n"
      ],
      "metadata": {
        "id": "_kd0jhxMJBK7"
      }
    }
  ]
}