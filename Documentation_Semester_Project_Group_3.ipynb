{
  "nbformat": 4,
  "nbformat_minor": 0,
  "metadata": {
    "colab": {
      "name": "Documentation Semester Project Group 3.ipynb",
      "provenance": [],
      "collapsed_sections": [],
      "authorship_tag": "ABX9TyMaTFHhtdfJovY44YSFb6oP",
      "include_colab_link": true
    },
    "kernelspec": {
      "name": "python3",
      "display_name": "Python 3"
    },
    "language_info": {
      "name": "python"
    }
  },
  "cells": [
    {
      "cell_type": "markdown",
      "metadata": {
        "id": "view-in-github",
        "colab_type": "text"
      },
      "source": [
        "<a href=\"https://colab.research.google.com/github/michaelbirbaumer/DSF-2022---Semester-Project/blob/main/Documentation_Semester_Project_Group_3.ipynb\" target=\"_parent\"><img src=\"https://colab.research.google.com/assets/colab-badge.svg\" alt=\"Open In Colab\"/></a>"
      ]
    },
    {
      "cell_type": "markdown",
      "source": [
        "##PuTTY\n",
        "Want to use secure shell (ssh) which provides an encrypted connection to the remote machine\n",
        "\n",
        "Download PuTTY (needed to use ssh from a windows computer):\n",
        "\n",
        "https://www.putty.org/ \n",
        "--> https://www.chiark.greenend.org.uk/~sgtatham/putty/latest.html \n",
        "--> https://the.earth.li/~sgtatham/putty/latest/w64/putty-64bit-0.76-installer.msi \n",
        "\n",
        "##Terminal cheatsheet\n",
        "Contains the most useful commands to navigate, edit/process files and run commands in a shell.\n",
        "\n",
        "https://cheatography.com/davechild/cheat-sheets/linux-command-line/\n",
        "\n",
        "##FileZilla\n",
        "Software for remotely copying files.\n",
        "\n",
        "For safely moving files between your local and your remote machine, ssh typically (in addition to the shell capability) provides scp (secure copy) and/or sftp (secure file transfer protocol).\n",
        "\n",
        "((Used for transferring files over a network. Helps you transfer local files to web servers and vice versa.))\n",
        "\n",
        "https://filezilla-project.org/\n",
        "\n",
        "Download FileZilla Client:\n",
        "\n",
        "https://filezilla-project.org/download.php?type=client --> https://download.filezilla-project.org/client/FileZilla_3.58.0_win64_sponsored2-setup.exe \n",
        "\n",
        "\n",
        "\n",
        "\n"
      ],
      "metadata": {
        "id": "_kd0jhxMJBK7"
      }
    }
  ]
}