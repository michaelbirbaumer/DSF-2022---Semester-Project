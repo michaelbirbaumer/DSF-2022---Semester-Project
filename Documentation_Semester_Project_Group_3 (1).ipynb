{
  "nbformat": 4,
  "nbformat_minor": 0,
  "metadata": {
    "colab": {
      "name": "Documentation Semester Project Group 3.ipynb",
      "provenance": [],
      "collapsed_sections": []
    },
    "kernelspec": {
      "name": "python3",
      "display_name": "Python 3"
    },
    "language_info": {
      "name": "python"
    }
  },
  "cells": [
    {
      "cell_type": "code",
      "execution_count": null,
      "metadata": {
        "id": "ZuyL6wyVHVY-"
      },
      "outputs": [],
      "source": [
        "Want to use secure shell (ssh) which provides an encrypted connection to the remote machine\n",
        "\n",
        "PuTTY needed to use ssh from a windows computer:\n",
        "\n",
        "https://www.putty.org/ \n",
        "\n"
      ]
    }
  ]
}